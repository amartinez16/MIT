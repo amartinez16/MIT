{
  "cells": [
    {
      "cell_type": "markdown",
      "metadata": {
        "id": "aZVJ8gUn1RR9"
      },
      "source": [
        "# Actividad evaluable del módulo 5: Completar frases mediante LSTM\n",
        "\n",
        "Ahora que tenemos un marco para trabajar con datos secuenciales en PyTorch, nos centraremos en mejorar un modelo diseñado para completar frases. Para ello, introduciremos una codificación del conjunto de datos y una arquitectura de red neuronal más sofisticadas.\n",
        "\n",
        "En esta actividad, deberá implementar un modelo LSTM que contenga 2 capas ocultas y que complete frases al nivel de codificación de palabras en vez de al nivel de caracteres. Le proporcionaremos el código necesario para limpiar y preparar los datos, así como algunas funciones de ayuda que le permitan completar la tarea."
      ]
    },
    {
      "cell_type": "markdown",
      "metadata": {
        "id": "cu4mucQioGZA"
      },
      "source": [
        "## Conjunto de datos y codificación\n",
        "\n",
        "Utilizaremos el mismo conjunto de datos, pero ahora los objetivos de la secuencia serán las frases en español."
      ]
    },
    {
      "cell_type": "code",
      "execution_count": 178,
      "metadata": {
        "id": "yrzZRul42zJs"
      },
      "outputs": [],
      "source": [
        "from io import open\n",
        "import unicodedata\n",
        "import string\n",
        "import random\n",
        "import re\n",
        "\n",
        "import torch\n",
        "import torch.nn as nn\n",
        "import numpy as np\n",
        "from torch.utils.data import Subset\n",
        "from torch.utils.data import TensorDataset, DataLoader\n",
        "import time, copy\n",
        "import matplotlib.pyplot as plt\n",
        "import sklearn.metrics as metrics\n",
        "\n",
        "device = torch.device(\"cuda\" if torch.cuda.is_available() else \"cpu\")"
      ]
    },
    {
      "cell_type": "code",
      "execution_count": 179,
      "metadata": {
        "colab": {
          "base_uri": "https://localhost:8080/"
        },
        "id": "FoRgk40z3kJk",
        "outputId": "7ff1c26a-b86c-4c8d-83e1-d2336ee40470"
      },
      "outputs": [
        {
          "output_type": "stream",
          "name": "stdout",
          "text": [
            "--2023-11-22 18:57:43--  https://www.manythings.org/anki/spa-eng.zip\n",
            "Resolving www.manythings.org (www.manythings.org)... 173.254.30.110\n",
            "Connecting to www.manythings.org (www.manythings.org)|173.254.30.110|:443... connected.\n",
            "HTTP request sent, awaiting response... 200 OK\n",
            "Length: 5394805 (5.1M) [application/zip]\n",
            "Saving to: ‘spa-eng.zip’\n",
            "\n",
            "spa-eng.zip         100%[===================>]   5.14M  27.6MB/s    in 0.2s    \n",
            "\n",
            "2023-11-22 18:57:43 (27.6 MB/s) - ‘spa-eng.zip’ saved [5394805/5394805]\n",
            "\n",
            "Archive:  spa-eng.zip\n",
            "  inflating: _about.txt              \n",
            "  inflating: spa.txt                 \n",
            "_about.txt  sample_data  spa-eng.zip  spa.txt\n"
          ]
        }
      ],
      "source": [
        "# Descargar y descomprimir el archivo de texto que contiene las frases traducidas\n",
        "!rm spa-eng.zip _about.txt spa.txt\n",
        "!wget https://www.manythings.org/anki/spa-eng.zip\n",
        "!unzip spa-eng.zip\n",
        "!ls"
      ]
    },
    {
      "cell_type": "code",
      "execution_count": 180,
      "metadata": {
        "id": "66lR-Qyl8BYs"
      },
      "outputs": [],
      "source": [
        "# Funciones de ayuda combinadas del tutorial de PyTorch: https://pytorch.org/tutorials/intermediate/seq2seq_translation_tutorial.html\n",
        "\n",
        "# Convertir una string de Unicode a ASCII plano, gracias a\n",
        "# https://stackoverflow.com/a/518232/2809427\n",
        "def unicodeToAscii(s):\n",
        "    return ''.join(\n",
        "        c for c in unicodedata.normalize('NFD', s)\n",
        "        if unicodedata.category(c) != 'Mn'\n",
        "    )\n",
        "\n",
        "# Convertir los caracteres a minúsculas, recortar y eliminar todos los caracteres que no sean letras\n",
        "# Este paso es importante para que todas las palabras tengan el mismo formato,\n",
        "# igual que sucede al normalizar imágenes\n",
        "def normalizeString(s):\n",
        "    s = unicodeToAscii(s.lower().strip())\n",
        "    s = re.sub(r\"([.!?])\", r\"\", s)\n",
        "    s = re.sub(r\"[^a-zA-Z.!'?]+\", r\" \", s)\n",
        "    return s\n",
        "\n",
        "def parse_data(filename):\n",
        "    # Leer el archivo y dividir en líneas\n",
        "    lines = open(filename, encoding='utf-8').read().strip().split('\\n')\n",
        "\n",
        "    # Dividir cada línea en pares y normalizar\n",
        "    pairs = [[normalizeString(s) for s in l.split('\\t')] for l in lines]\n",
        "    # Eliminar la atribución, porque no forma parte de los datos\n",
        "    pairs = [[pair[0], pair[1]] for pair in pairs]\n",
        "\n",
        "    return pairs"
      ]
    },
    {
      "cell_type": "code",
      "execution_count": 181,
      "metadata": {
        "colab": {
          "base_uri": "https://localhost:8080/"
        },
        "id": "Ti0WFHKX9-k-",
        "outputId": "4f4a3150-60d8-4ec2-9773-07f97b023788"
      },
      "outputs": [
        {
          "output_type": "stream",
          "name": "stdout",
          "text": [
            "Number of English sentences: 140868\n"
          ]
        }
      ],
      "source": [
        "pairs = parse_data(\"spa.txt\")\n",
        "# Solo nos interesan las frases en inglés, porque no vamos a traducir\n",
        "spanish_sentences = [pair[1] for pair in pairs]\n",
        "# Mezclar el conjunto de datos\n",
        "random.shuffle(spanish_sentences)\n",
        "print(\"Number of English sentences:\", len(spanish_sentences))"
      ]
    },
    {
      "cell_type": "code",
      "execution_count": 182,
      "metadata": {
        "colab": {
          "base_uri": "https://localhost:8080/"
        },
        "id": "J8b3hnc59Hv6",
        "outputId": "99066006-a2a0-47d4-dfad-fd037c15a2b6"
      },
      "outputs": [
        {
          "output_type": "execute_result",
          "data": {
            "text/plain": [
              "140868"
            ]
          },
          "metadata": {},
          "execution_count": 182
        }
      ],
      "source": [
        "len(spanish_sentences)"
      ]
    },
    {
      "cell_type": "code",
      "execution_count": null,
      "metadata": {
        "id": "L1YcvY9LU3qX"
      },
      "outputs": [],
      "source": [
        "print(spanish_sentences[:1000])"
      ]
    },
    {
      "cell_type": "code",
      "execution_count": 184,
      "metadata": {
        "id": "BngUGRRE-8P0"
      },
      "outputs": [],
      "source": [
        "# Como ya hemos mezclado el conjunto de datos, tomamos una muestra aleatoria de frases para los conjuntos de entrenamiento, validación y prueba\n",
        "# Aquí, utilizamos un número pequeño de frases para reducir el tiempo de entrenamiento, pero puede usar más si lo desea\n",
        "train_sentences = spanish_sentences[:1000]\n",
        "val_sentences = spanish_sentences[1000:2000]\n",
        "test_sentences = spanish_sentences[2000:3000]\n",
        "\n",
        "# Mediante esta función, crearemos un diccionario para utilizarlo con los vectores de codificación one-hot\n",
        "def add_words_to_dict(word_dictionary, word_list, sentences):\n",
        "    for sentence in sentences:\n",
        "        for word in sentence.split(\" \"):\n",
        "            if word in word_dictionary:\n",
        "                continue\n",
        "            else:\n",
        "                word_list.append(word)\n",
        "                word_dictionary[word] = len(word_list)-1\n",
        "\n",
        "spanish_dictionary = {}\n",
        "spanish_list = []\n",
        "add_words_to_dict(spanish_dictionary, spanish_list, train_sentences)\n",
        "add_words_to_dict(spanish_dictionary, spanish_list, val_sentences)\n",
        "add_words_to_dict(spanish_dictionary, spanish_list, test_sentences)\n",
        "\n"
      ]
    },
    {
      "cell_type": "markdown",
      "metadata": {
        "id": "pszv87RStebQ"
      },
      "source": [
        "### Codificación"
      ]
    },
    {
      "cell_type": "code",
      "execution_count": 185,
      "metadata": {
        "id": "3MLDsB9KSYvQ"
      },
      "outputs": [],
      "source": [
        "# Crear las muestras de entrenamiento\n",
        "def create_input_tensor(sentence, word_dictionary):\n",
        "    words = sentence.split(\" \")\n",
        "    tensor = torch.zeros(len(words), 1, len(word_dictionary)+1)\n",
        "    for idx in range(len(words)):\n",
        "        word = words[idx]\n",
        "        tensor[idx][0][word_dictionary[word]] = 1\n",
        "    return tensor\n",
        "\n",
        "def create_target_tensor(sentence, word_dictionary):\n",
        "    words = sentence.split(\" \")\n",
        "    tensor = torch.zeros(len(words), 1, len(word_dictionary)+1)\n",
        "    for idx in range(1, len(words)):\n",
        "        word = words[idx]\n",
        "        tensor[idx-1][0][word_dictionary[word]] = 1\n",
        "    tensor[len(words)-1][0][len(word_dictionary)] = 1 # EOS\n",
        "    return tensor\n",
        "\n",
        "\n",
        "train_tensors = [(create_input_tensor(sentence, spanish_dictionary), create_target_tensor(sentence, spanish_dictionary)) for sentence in train_sentences]\n",
        "val_tensors = [(create_input_tensor(sentence, spanish_dictionary), create_target_tensor(sentence, spanish_dictionary)) for sentence in val_sentences]\n",
        "test_tensors = [(create_input_tensor(sentence, spanish_dictionary), create_target_tensor(sentence, spanish_dictionary)) for sentence in test_sentences]"
      ]
    },
    {
      "cell_type": "code",
      "execution_count": null,
      "metadata": {
        "id": "5L6EL1M6Vdq8"
      },
      "outputs": [],
      "source": [
        "print(train_sentences)"
      ]
    },
    {
      "cell_type": "code",
      "execution_count": 187,
      "metadata": {
        "colab": {
          "base_uri": "https://localhost:8080/"
        },
        "id": "AnIg_qVDQhy0",
        "outputId": "8aeabdad-1dee-41b8-e5af-97a4a09fe5f2"
      },
      "outputs": [
        {
          "output_type": "stream",
          "name": "stdout",
          "text": [
            "This code helps visualize what an input and it's corresponding target should look like!\n",
            "tom no pretendia que pasara esto \n",
            "no pretendia que pasara esto <EOS>\n"
          ]
        }
      ],
      "source": [
        "def tensor_to_sentence(word_list, tensor):\n",
        "    sentence = \"\"\n",
        "    for i in range(tensor.size(0)):\n",
        "        topv, topi = tensor[i].topk(1)\n",
        "        if topi[0][0] == len(word_list):\n",
        "            sentence += \"<EOS>\"\n",
        "            break\n",
        "        sentence += word_list[topi[0][0]]\n",
        "        sentence += \" \"\n",
        "    return sentence\n",
        "\n",
        "print(\"This code helps visualize what an input and it's corresponding target should look like!\")\n",
        "for input, target in train_tensors:\n",
        "    print(tensor_to_sentence(spanish_list, input))\n",
        "    print(tensor_to_sentence(spanish_list, target))\n",
        "    break\n"
      ]
    },
    {
      "cell_type": "code",
      "execution_count": 188,
      "metadata": {
        "colab": {
          "base_uri": "https://localhost:8080/"
        },
        "id": "3SjmOheE6bcn",
        "outputId": "809f3381-ba27-441c-ba39-7e4c1a28b65d"
      },
      "outputs": [
        {
          "output_type": "stream",
          "name": "stdout",
          "text": [
            "dataset_sizes = {'train': 1000, 'val': 1000, 'test': 1000}\n"
          ]
        }
      ],
      "source": [
        "dataloaders = {'train': train_tensors,\n",
        "               'val': val_tensors,\n",
        "               'test': test_tensors}\n",
        "\n",
        "dataset_sizes = {'train': len(train_tensors),\n",
        "                 'val': len(val_tensors),\n",
        "                 'test': len(test_tensors)}\n",
        "print(f'dataset_sizes = {dataset_sizes}')"
      ]
    },
    {
      "cell_type": "markdown",
      "metadata": {
        "id": "dKtltT2-oUuo"
      },
      "source": [
        "### Definición de la LSTM\n",
        "\n",
        "Incluya su modelo en esta sección. La estructura básica ya está creada.\n"
      ]
    },
    {
      "cell_type": "code",
      "execution_count": 189,
      "metadata": {
        "id": "Fa1X_Le3jQLY"
      },
      "outputs": [],
      "source": [
        "#hiddenp = lstm.initHidden()"
      ]
    },
    {
      "cell_type": "code",
      "execution_count": 190,
      "metadata": {
        "id": "yT_aT75DjXnG"
      },
      "outputs": [],
      "source": [
        "#hiddenp"
      ]
    },
    {
      "cell_type": "code",
      "execution_count": 191,
      "metadata": {
        "id": "bYLj4Qvzxldp"
      },
      "outputs": [],
      "source": [
        "class LSTM(nn.Module):\n",
        "    def __init__(self, input_size, hidden_size, output_size):\n",
        "        super(LSTM, self).__init__()\n",
        "        self.hidden_size = hidden_size\n",
        "\n",
        "        self.lstm = nn.LSTM(input_size, hidden_size, num_layers = 2, dropout=0.5)\n",
        "        #self.dropout = nn.Dropout(0.2)\n",
        "\n",
        "        #self.lstm = nn.LSTM(input_size, hidden_size, num_layers = 1, nonlinearity = 'tanh', dropout = 0)\n",
        "\n",
        "        self.fc = nn.Linear(hidden_size, output_size,)\n",
        "\n",
        "    def forward(self, input, hidden):\n",
        "        output, hidden = self.lstm(input, hidden)\n",
        "        #output = self.fc(self.dropout(output))\n",
        "        output = self.fc(output)\n",
        "\n",
        "        return output, hidden\n",
        "\n",
        "    def initHidden(self):\n",
        "        # Necesitamos dos capas ocultas por la lstm de dos capas\n",
        "        # El modelo debería ser capaz de utilizar esta implementación de initHidden()\n",
        "        return (torch.zeros(2, self.hidden_size).to(device), torch.zeros(2, self.hidden_size).to(device))"
      ]
    },
    {
      "cell_type": "code",
      "source": [
        "for input, targer in dataloaders['train']:\n",
        "  input = input"
      ],
      "metadata": {
        "id": "U0i4VfwrCY3y"
      },
      "execution_count": 192,
      "outputs": []
    },
    {
      "cell_type": "code",
      "execution_count": 193,
      "metadata": {
        "id": "DoQcZxUF-QBY"
      },
      "outputs": [],
      "source": [
        "# COMPLETAR\n",
        "\n",
        "lstm = LSTM(input.size(-1), 700, input.size(-1)).to(device)\n",
        "\n"
      ]
    },
    {
      "cell_type": "code",
      "execution_count": 194,
      "metadata": {
        "colab": {
          "base_uri": "https://localhost:8080/"
        },
        "id": "YFuNeXqJaHxF",
        "outputId": "d36f24ea-2a3d-4971-86e6-d407e1fc4fdb"
      },
      "outputs": [
        {
          "output_type": "stream",
          "name": "stdout",
          "text": [
            "LSTM(\n",
            "  (lstm): LSTM(3658, 700, num_layers=2, dropout=0.5)\n",
            "  (fc): Linear(in_features=700, out_features=3658, bias=True)\n",
            ")\n"
          ]
        }
      ],
      "source": [
        "print(lstm)"
      ]
    },
    {
      "cell_type": "code",
      "execution_count": 195,
      "metadata": {
        "id": "HRR_nA2ofl8t"
      },
      "outputs": [],
      "source": [
        "def train_lstm(model, dataloaders, dataset_sizes, criterion, optimizer, scheduler, num_epochs=25):\n",
        "    since = time.time()\n",
        "\n",
        "    best_model_wts = copy.deepcopy(model.state_dict()) # Almacenar los mejores pesos por separado\n",
        "    best_loss = np.inf\n",
        "    best_epoch = 0\n",
        "\n",
        "    # Cada ciclo tiene una fase de entrenamiento, validación y prueba\n",
        "    phases = ['train', 'val', 'test']\n",
        "\n",
        "    # Hacer un seguimiento de la evolución de la pérdida durante el entrenamiento\n",
        "    training_curves = {}\n",
        "    for phase in phases:\n",
        "        training_curves[phase+'_loss'] = []\n",
        "\n",
        "    for epoch in range(num_epochs):\n",
        "        print(f'\\nEpoch {epoch+1}/{num_epochs}')\n",
        "        print('-' * 10)\n",
        "\n",
        "        for phase in phases:\n",
        "            if phase == 'train':\n",
        "                model.train()  # Configurar el modelo en modo de entrenamiento\n",
        "            else:\n",
        "                model.eval()   # Configurar el modelo en modo de evaluación\n",
        "\n",
        "            running_loss = 0.0\n",
        "\n",
        "            # Iterar con los datos\n",
        "            for input_sequence, target_sequence in dataloaders[phase]:\n",
        "                # Ahora, iterar con cada secuencia\n",
        "\n",
        "                hidden = model.initHidden() # Empezar con un estado oculto nuevo\n",
        "\n",
        "                current_input_sequence = input_sequence.to(device)\n",
        "                current_target_sequence = target_sequence.to(device)\n",
        "\n",
        "                # Poner a cero los gradientes de los parámetros\n",
        "                optimizer.zero_grad()\n",
        "\n",
        "                # Método forward\n",
        "                with torch.set_grad_enabled(phase == 'train'):\n",
        "                    loss = 0\n",
        "                    # Hacer una predicción de cada elemento de la secuencia\n",
        "                    # y llevar un seguimiento del estado oculto a lo largo del proceso\n",
        "                    #print('antes')\n",
        "                    for i in range(current_input_sequence.size(0)):\n",
        "                        # Debemos pensar bien cómo transferir las capas ocultas al dispositivo\n",
        "                        #print('entro')\n",
        "                        current_hidden = (hidden[0].to(device), hidden[1].to(device))  #diferente.\n",
        "                        #print('despues')\n",
        "                        #current_hidden = hidden.to(device)\n",
        "                        output, hidden = model(current_input_sequence[i], current_hidden)\n",
        "                        #print('vamos bien')\n",
        "                        l = criterion(output, current_target_sequence[i])\n",
        "                        loss += l\n",
        "\n",
        "                    # Método backward y actualización de los pesos solo si está en la fase de entrenamiento al final de una secuencia\n",
        "                    if phase == 'train':\n",
        "                        loss.backward()\n",
        "                        optimizer.step()\n",
        "\n",
        "                # Estadísticas\n",
        "                running_loss += loss.item() / current_input_sequence.size(0)\n",
        "\n",
        "            if phase == 'train':\n",
        "                scheduler.step()\n",
        "\n",
        "            epoch_loss = running_loss / dataset_sizes[phase]\n",
        "            training_curves[phase+'_loss'].append(epoch_loss)\n",
        "\n",
        "            print(f'{phase:5} Loss: {epoch_loss:.4f}')\n",
        "\n",
        "            # Hacer una copia profunda del modelo si tenemos la mejor pérdida\n",
        "            # Nota: utilizamos la pérdida de entrenamiento para seleccionar el mejor modelo\n",
        "            if phase == 'train' and epoch_loss < best_loss:\n",
        "              best_epoch = epoch\n",
        "              best_loss = epoch_loss\n",
        "              best_model_wts = copy.deepcopy(model.state_dict())\n",
        "\n",
        "    time_elapsed = time.time() - since\n",
        "    print(f'\\nTraining complete in {time_elapsed // 60:.0f}m {time_elapsed % 60:.0f}s')\n",
        "    print(f'Best val Loss: {best_loss:4f} at epoch {best_epoch}')\n",
        "\n",
        "    # Cargar los mejores pesos del modelo\n",
        "    model.load_state_dict(best_model_wts)\n",
        "\n",
        "    return model, training_curves"
      ]
    },
    {
      "cell_type": "code",
      "execution_count": 196,
      "metadata": {
        "id": "h35LR8siENSg"
      },
      "outputs": [],
      "source": [
        "# Definir la mejor función de predicción para poder ejecutar algunas predicciones en la misma celda que el entrenamiento\n",
        "def predict(model, word_dictionary, word_list, input_sentence, max_length = 20):\n",
        "    output_sentence = input_sentence + \" \"\n",
        "    tensor = create_input_tensor(input_sentence, word_dictionary)\n",
        "    hidden = model.initHidden()\n",
        "    current_input_sequence = tensor.to(device)\n",
        "    input = None\n",
        "\n",
        "    for i in range(current_input_sequence.size(0)):\n",
        "        current_hidden = (hidden[0].to(device), hidden[1].to(device))\n",
        "        #current_hidden = hidden.to(device)\n",
        "        output, hidden = model(current_input_sequence[i], current_hidden)\n",
        "\n",
        "    topv, topi = output.topk(1)\n",
        "    topi = topi[0][0]\n",
        "    if topi ==  len(word_dictionary):\n",
        "        topv, topi = output.topk(2)\n",
        "        topi = topi[0][1]\n",
        "    word = word_list[topi]\n",
        "    output_sentence += word\n",
        "    output_sentence += \" \"\n",
        "    input = create_input_tensor(word, word_dictionary)\n",
        "\n",
        "    for i in range(len(input_sentence.split(\" \")), max_length):\n",
        "        current_hidden = (hidden[0].to(device), hidden[1].to(device))\n",
        "        #current_hidden = hidden.to(device)\n",
        "        current_input = input[0].to(device)\n",
        "        output, hidden = model(current_input, current_hidden)\n",
        "        topv, topi = output.topk(1)\n",
        "        topi = topi[0][0]\n",
        "        if topi == len(word_dictionary):\n",
        "            # Imprimir (\"Hit the EOS\")\n",
        "            break\n",
        "        word = word_list[topi]\n",
        "        output_sentence += word\n",
        "        output_sentence += \" \"\n",
        "        input = create_input_tensor(word, word_dictionary)\n",
        "    return output_sentence"
      ]
    },
    {
      "cell_type": "code",
      "execution_count": 197,
      "metadata": {
        "colab": {
          "base_uri": "https://localhost:8080/"
        },
        "id": "xzqzmUwL8Chj",
        "outputId": "b35d4d56-25f4-48ae-c07b-b4b18c25003a"
      },
      "outputs": [
        {
          "output_type": "stream",
          "name": "stdout",
          "text": [
            "\n",
            "Epoch 1/20\n",
            "----------\n",
            "train Loss: 6.1476\n",
            "val   Loss: 5.9952\n",
            "test  Loss: 6.0132\n",
            "\n",
            "Epoch 2/20\n",
            "----------\n",
            "train Loss: 5.0565\n",
            "val   Loss: 6.4137\n",
            "test  Loss: 6.4746\n",
            "\n",
            "Epoch 3/20\n",
            "----------\n",
            "train Loss: 4.5529\n",
            "val   Loss: 6.9835\n",
            "test  Loss: 7.0318\n",
            "\n",
            "Epoch 4/20\n",
            "----------\n",
            "train Loss: 4.0836\n",
            "val   Loss: 7.1239\n",
            "test  Loss: 7.1899\n",
            "\n",
            "Epoch 5/20\n",
            "----------\n",
            "train Loss: 3.6330\n",
            "val   Loss: 7.4312\n",
            "test  Loss: 7.4991\n",
            "\n",
            "Epoch 6/20\n",
            "----------\n",
            "train Loss: 3.1691\n",
            "val   Loss: 7.9426\n",
            "test  Loss: 8.0542\n",
            "\n",
            "Epoch 7/20\n",
            "----------\n",
            "train Loss: 2.7386\n",
            "val   Loss: 8.1645\n",
            "test  Loss: 8.2713\n",
            "\n",
            "Epoch 8/20\n",
            "----------\n",
            "train Loss: 2.3826\n",
            "val   Loss: 8.6304\n",
            "test  Loss: 8.7695\n",
            "\n",
            "Epoch 9/20\n",
            "----------\n",
            "train Loss: 2.0383\n",
            "val   Loss: 8.8788\n",
            "test  Loss: 8.9949\n",
            "\n",
            "Epoch 10/20\n",
            "----------\n",
            "train Loss: 1.7565\n",
            "val   Loss: 9.1335\n",
            "test  Loss: 9.2726\n",
            "\n",
            "Epoch 11/20\n",
            "----------\n",
            "train Loss: 1.5241\n",
            "val   Loss: 9.3155\n",
            "test  Loss: 9.4557\n",
            "\n",
            "Epoch 12/20\n",
            "----------\n",
            "train Loss: 1.3395\n",
            "val   Loss: 9.5692\n",
            "test  Loss: 9.7300\n",
            "\n",
            "Epoch 13/20\n",
            "----------\n",
            "train Loss: 1.2134\n",
            "val   Loss: 9.5962\n",
            "test  Loss: 9.7442\n",
            "\n",
            "Epoch 14/20\n",
            "----------\n",
            "train Loss: 1.1160\n",
            "val   Loss: 9.5999\n",
            "test  Loss: 9.7636\n",
            "\n",
            "Epoch 15/20\n",
            "----------\n",
            "train Loss: 1.0524\n",
            "val   Loss: 9.7441\n",
            "test  Loss: 9.9390\n",
            "\n",
            "Epoch 16/20\n",
            "----------\n",
            "train Loss: 0.9751\n",
            "val   Loss: 10.0063\n",
            "test  Loss: 10.1716\n",
            "\n",
            "Epoch 17/20\n",
            "----------\n",
            "train Loss: 0.9386\n",
            "val   Loss: 10.0300\n",
            "test  Loss: 10.2353\n",
            "\n",
            "Epoch 18/20\n",
            "----------\n",
            "train Loss: 0.8957\n",
            "val   Loss: 10.0054\n",
            "test  Loss: 10.1835\n",
            "\n",
            "Epoch 19/20\n",
            "----------\n",
            "train Loss: 0.8575\n",
            "val   Loss: 10.3083\n",
            "test  Loss: 10.4447\n",
            "\n",
            "Epoch 20/20\n",
            "----------\n",
            "train Loss: 0.8255\n",
            "val   Loss: 10.4272\n",
            "test  Loss: 10.6281\n",
            "\n",
            "Training complete in 9m 51s\n",
            "Best val Loss: 0.825521 at epoch 19\n"
          ]
        }
      ],
      "source": [
        "learning_rate = 0.001\n",
        "num_epochs = 20\n",
        "\n",
        "# COMPLETAR\n",
        "criterion = nn.CrossEntropyLoss()\n",
        "optimizer = torch.optim.Adam(lstm.parameters(), lr=learning_rate)\n",
        "scheduler = torch.optim.lr_scheduler.ExponentialLR(optimizer, gamma=0.95)\n",
        "# Complete el código necesario para ejecutar la función de entrenamiento\n",
        "\n",
        "lstm, training_curves = train_lstm(lstm, dataloaders, dataset_sizes,\n",
        "                                     criterion, optimizer, scheduler, num_epochs=num_epochs)\n",
        "\n"
      ]
    },
    {
      "cell_type": "code",
      "execution_count": 203,
      "metadata": {
        "colab": {
          "base_uri": "https://localhost:8080/"
        },
        "id": "3IVZIZyjNajB",
        "outputId": "0ce470f0-b40d-43b5-d431-9c507cba9192"
      },
      "outputs": [
        {
          "output_type": "stream",
          "name": "stdout",
          "text": [
            "mary se vino conmigo \n",
            "tom esta interesado en el montanismo \n"
          ]
        }
      ],
      "source": [
        "print(predict(lstm, spanish_dictionary, spanish_list, \"mary\"))\n",
        "print(predict(lstm, spanish_dictionary, spanish_list, \"tom esta\"))"
      ]
    },
    {
      "cell_type": "code",
      "execution_count": null,
      "metadata": {
        "id": "HYpm67jgLD3y"
      },
      "outputs": [],
      "source": [
        "print(train_sentences)\n",
        "print(val_sentences)\n",
        "print(test_sentences)"
      ]
    },
    {
      "cell_type": "markdown",
      "metadata": {
        "id": "Diwgt3Fix2zg"
      },
      "source": [
        "### Visualizar los resultados\n",
        "\n",
        "Observe las curvas de entrenamiento. ¿Su modelo se sobreajusta a los datos de entrenamiento? Si es así, ¿por qué cree que sucede? Escriba su respuesta en la celda de abajo."
      ]
    },
    {
      "cell_type": "markdown",
      "metadata": {
        "id": "ejU7W0o5wEIk"
      },
      "source": [
        "Escriba aquí su respuesta:"
      ]
    },
    {
      "cell_type": "code",
      "execution_count": 209,
      "metadata": {
        "id": "GEWXj81iCrvE"
      },
      "outputs": [],
      "source": [
        "def plot_training_curves(training_curves,\n",
        "                         phases=['train', 'val', 'test'],\n",
        "                         metrics=['loss']):\n",
        "    epochs = list(range(len(training_curves['train_loss'])))\n",
        "    for metric in metrics:\n",
        "        plt.figure()\n",
        "        plt.title(f'Training curves - {metric}')\n",
        "        for phase in phases:\n",
        "            key = phase+'_'+metric\n",
        "            if key in training_curves:\n",
        "                plt.plot(epochs, training_curves[key])\n",
        "        plt.xlabel('epoch')\n",
        "        plt.legend(labels=phases)"
      ]
    },
    {
      "cell_type": "code",
      "execution_count": 210,
      "metadata": {
        "colab": {
          "base_uri": "https://localhost:8080/",
          "height": 472
        },
        "id": "BgaR32cNCxUC",
        "outputId": "caf69de1-3ffe-446e-9578-8e49f34b69f8"
      },
      "outputs": [
        {
          "output_type": "display_data",
          "data": {
            "text/plain": [
              "<Figure size 640x480 with 1 Axes>"
            ],
            "image/png": "[encoded data removed]"
          },
          "metadata": {}
        }
      ],
      "source": [
        "plot_training_curves(training_curves, phases=['train', 'val', 'test'])"
      ]
    },
    {
      "cell_type": "markdown",
      "source": [
        "Conclusión\n",
        "\n",
        "Si observamos la curva de entrenamiento vemos que si hay sobre ajuste ya que mientras que el error disminuye en el entrenamiento este aumenta en el val y test, si hicieron varias pruebas con otras capas y dropout pero no se logró eliminar el sobre ajuste, por lo que se concluye que no predice inteligentemente porque se necesita más información para entrenar nuestro modelo y así poder eliminar el sobreajuste y hacer que nuestro modelo realice predicción inteligentes.\n",
        "\n"
      ],
      "metadata": {
        "id": "vzY7ucXLh4H8"
      }
    }
  ],
  "metadata": {
    "accelerator": "GPU",
    "colab": {
      "provenance": [],
      "toc_visible": true
    },
    "gpuClass": "standard",
    "kernelspec": {
      "display_name": "Python 3",
      "language": "python",
      "name": "python3"
    },
    "language_info": {
      "codemirror_mode": {
        "name": "ipython",
        "version": 3
      },
      "file_extension": ".py",
      "mimetype": "text/x-python",
      "name": "python",
      "nbconvert_exporter": "python",
      "pygments_lexer": "ipython3",
      "version": "3.8.8"
    }
  },
  "nbformat": 4,
  "nbformat_minor": 0
}